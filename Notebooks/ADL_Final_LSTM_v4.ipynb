{
  "cells": [
    {
      "cell_type": "markdown",
      "metadata": {
        "id": "SHbliChNDZNQ"
      },
      "source": [
        "# Sentiment Analysis on Yelp Reviews with LSTM and Optuna Hyperparameter Optimization\n",
        "\n",
        "## Overview\n",
        "This project aims to perform sentiment analysis on Yelp reviews using a deep learning model based on LSTM layers. The primary objective is to classify reviews into three sentiment classes: negative, neutral, and positive. The project leverages Optuna for hyperparameter optimization to enhance the model's performance.\n",
        "\n",
        "## Workflow\n",
        "\n",
        "### 1. Data Loading\n",
        "The Yelp dataset, containing reviews and ratings, is loaded from a CSV file. The file is read into a pandas DataFrame using the following command:\n",
        "\n",
        "df = pd.read_csv('/path/to/your/Yelp Restaurant Reviews.csv')\n",
        "\n",
        "\n",
        "Replace the file path with the actual path where your dataset is stored.\n",
        "\n",
        "### 2. Sentiment Mapping\n",
        "The ratings in the dataset are mapped to sentiment classes:\n",
        "\n",
        "0: Negative (1 and 2 stars)\n",
        "1: Neutral (3 stars)\n",
        "2: Positive (4 and 5 stars)\n",
        "This is done using a lambda function applied to the Rating column:\n",
        "df['Sentiment'] = df['Rating'].apply(lambda x: 0 if x <= 2 else (1 if x == 3 else 2))\n",
        "\n",
        "### 3. Data Splitting\n",
        "The dataset is split into training and test sets using an 80-20 ratio. The train_test_split function from scikit-learn is used:\n",
        "\n",
        "X_train, X_test, y_train, y_test = train_test_split(df['Review Text'], df['Sentiment'], test_size=0.2, random_state=42)\n",
        "\n",
        "### 4. Text Tokenization\n",
        "The text data is tokenized using Keras' Tokenizer. The vocabulary size is set to 20,000, and the text is converted to sequences of tokens:\n",
        "\n",
        "tokenizer = Tokenizer(num_words=20000)\n",
        "tokenizer.fit_on_texts(X_train)\n",
        "sequences_train = tokenizer.texts_to_sequences(X_train)\n",
        "sequences_test = tokenizer.texts_to_sequences(X_test)\n",
        "\n",
        "### 5. Sequence Padding\n",
        "The sequences are padded to ensure they all have the same length, which is necessary for the LSTM model:\n",
        "\n",
        "trainX = pad_sequences(sequences_train)\n",
        "T = trainX.shape[1]  # Maximum length of the sequences\n",
        "testX = pad_sequences(sequences_test, maxlen=T)\n",
        "\n",
        "The Optuna objective function defines the model architecture, compiles the model, and trains it. Early stopping is used to prevent overfitting.\n",
        "\n",
        "### 7. Training and Evaluation\n",
        "The model is trained on the training set and evaluated on the test set. Validation accuracy is monitored and printed for each epoch during the optimization process. After optimization, the best hyperparameters are used to train a final model.\n",
        "\n",
        "### 8. Visualization\n",
        "The training and validation accuracy, along with the loss, are visualized to understand the model's performance over epochs.\n",
        "\n",
        "## Conclusion\n",
        "This workflow efficiently leverages Optuna to fine-tune the LSTM model's hyperparameters, leading to an optimized sentiment analysis model for Yelp reviews. The steps outlined can be used as a reference for future projects involving deep learning and hyperparameter optimization."
      ]
    },
    {
      "cell_type": "code",
      "execution_count": 1,
      "metadata": {
        "colab": {
          "base_uri": "https://localhost:8080/"
        },
        "id": "5Ow-GRSLbqN3",
        "outputId": "ed47118e-47d4-4df9-ab4f-7a2eed8cd2d1"
      },
      "outputs": [
        {
          "output_type": "stream",
          "name": "stdout",
          "text": [
            "Collecting optuna\n",
            "  Downloading optuna-3.6.1-py3-none-any.whl.metadata (17 kB)\n",
            "Collecting alembic>=1.5.0 (from optuna)\n",
            "  Downloading alembic-1.13.2-py3-none-any.whl.metadata (7.4 kB)\n",
            "Collecting colorlog (from optuna)\n",
            "  Downloading colorlog-6.8.2-py3-none-any.whl.metadata (10 kB)\n",
            "Requirement already satisfied: numpy in /usr/local/lib/python3.10/dist-packages (from optuna) (1.26.4)\n",
            "Requirement already satisfied: packaging>=20.0 in /usr/local/lib/python3.10/dist-packages (from optuna) (24.1)\n",
            "Requirement already satisfied: sqlalchemy>=1.3.0 in /usr/local/lib/python3.10/dist-packages (from optuna) (2.0.32)\n",
            "Requirement already satisfied: tqdm in /usr/local/lib/python3.10/dist-packages (from optuna) (4.66.5)\n",
            "Requirement already satisfied: PyYAML in /usr/local/lib/python3.10/dist-packages (from optuna) (6.0.2)\n",
            "Collecting Mako (from alembic>=1.5.0->optuna)\n",
            "  Downloading Mako-1.3.5-py3-none-any.whl.metadata (2.9 kB)\n",
            "Requirement already satisfied: typing-extensions>=4 in /usr/local/lib/python3.10/dist-packages (from alembic>=1.5.0->optuna) (4.12.2)\n",
            "Requirement already satisfied: greenlet!=0.4.17 in /usr/local/lib/python3.10/dist-packages (from sqlalchemy>=1.3.0->optuna) (3.0.3)\n",
            "Requirement already satisfied: MarkupSafe>=0.9.2 in /usr/local/lib/python3.10/dist-packages (from Mako->alembic>=1.5.0->optuna) (2.1.5)\n",
            "Downloading optuna-3.6.1-py3-none-any.whl (380 kB)\n",
            "\u001b[2K   \u001b[90m━━━━━━━━━━━━━━━━━━━━━━━━━━━━━━━━━━━━━━━━\u001b[0m \u001b[32m380.1/380.1 kB\u001b[0m \u001b[31m13.1 MB/s\u001b[0m eta \u001b[36m0:00:00\u001b[0m\n",
            "\u001b[?25hDownloading alembic-1.13.2-py3-none-any.whl (232 kB)\n",
            "\u001b[2K   \u001b[90m━━━━━━━━━━━━━━━━━━━━━━━━━━━━━━━━━━━━━━━━\u001b[0m \u001b[32m233.0/233.0 kB\u001b[0m \u001b[31m13.5 MB/s\u001b[0m eta \u001b[36m0:00:00\u001b[0m\n",
            "\u001b[?25hDownloading colorlog-6.8.2-py3-none-any.whl (11 kB)\n",
            "Downloading Mako-1.3.5-py3-none-any.whl (78 kB)\n",
            "\u001b[2K   \u001b[90m━━━━━━━━━━━━━━━━━━━━━━━━━━━━━━━━━━━━━━━━\u001b[0m \u001b[32m78.6/78.6 kB\u001b[0m \u001b[31m4.1 MB/s\u001b[0m eta \u001b[36m0:00:00\u001b[0m\n",
            "\u001b[?25hInstalling collected packages: Mako, colorlog, alembic, optuna\n",
            "Successfully installed Mako-1.3.5 alembic-1.13.2 colorlog-6.8.2 optuna-3.6.1\n"
          ]
        }
      ],
      "source": [
        "!pip install optuna\n",
        "\n",
        "import numpy as np\n",
        "import pandas as pd\n",
        "from sklearn.model_selection import train_test_split\n",
        "from tensorflow.keras.preprocessing.text import Tokenizer\n",
        "from tensorflow.keras.preprocessing.sequence import pad_sequences\n",
        "import tensorflow as tf"
      ]
    },
    {
      "cell_type": "code",
      "execution_count": 2,
      "metadata": {
        "colab": {
          "base_uri": "https://localhost:8080/"
        },
        "id": "k86ljBu6bko2",
        "outputId": "131382e6-5085-409d-d437-aa0947e85c9a"
      },
      "outputs": [
        {
          "output_type": "stream",
          "name": "stdout",
          "text": [
            "Mounted at /content/drive/\n"
          ]
        }
      ],
      "source": [
        "from google.colab import drive\n",
        "drive.mount('/content/drive/')"
      ]
    },
    {
      "cell_type": "code",
      "execution_count": 3,
      "metadata": {
        "colab": {
          "base_uri": "https://localhost:8080/"
        },
        "id": "K6TsA0Mqc3KN",
        "outputId": "fce6f7f9-1c1d-4022-a96c-26a11058c662"
      },
      "outputs": [
        {
          "output_type": "stream",
          "name": "stdout",
          "text": [
            "GPU is available.\n"
          ]
        }
      ],
      "source": [
        "\n",
        "# Load the Yelp dataset from a CSV file\n",
        "file_path = '/content/drive/My Drive/Yelp Restaurant Reviews.csv'  # Replace with your file path\n",
        "df = pd.read_csv(file_path)\n",
        "\n",
        "# Map ratings to sentiments: 0 = negative, 1 = neutral, 2 = positive\n",
        "df['Sentiment'] = df['Rating'].apply(lambda x: 0 if x <= 2 else (1 if x == 3 else 2))\n",
        "\n",
        "# Split data into training and test sets\n",
        "X_train, X_test, y_train, y_test = train_test_split(df['Review Text'], df['Sentiment'], test_size=0.2, random_state=42)\n",
        "\n",
        "# Tokenize the text\n",
        "vocab_size = 20000\n",
        "tokenizer = Tokenizer(num_words=vocab_size)\n",
        "tokenizer.fit_on_texts(X_train)\n",
        "sequences_train = tokenizer.texts_to_sequences(X_train)\n",
        "sequences_test = tokenizer.texts_to_sequences(X_test)\n",
        "\n",
        "# Convert sequences to fixed-length sequences using padding\n",
        "trainX = pad_sequences(sequences_train)\n",
        "T = trainX.shape[1]  # Maximum length of the sequences\n",
        "testX = pad_sequences(sequences_test, maxlen=T)\n",
        "\n",
        "# Word index mapping\n",
        "word2idx = tokenizer.word_index\n",
        "V = len(word2idx)  # Vocabulary size\n",
        "\n",
        "# Check if GPU is available\n",
        "if tf.config.list_physical_devices('GPU'):\n",
        "    print(\"GPU is available.\")\n",
        "else:\n",
        "    print(\"GPU not available, using CPU.\")\n"
      ]
    },
    {
      "cell_type": "code",
      "execution_count": 16,
      "metadata": {
        "colab": {
          "base_uri": "https://localhost:8080/"
        },
        "id": "-DKTitW5bu4W",
        "outputId": "7a38337b-bc93-4e58-b929-450f1a99d8da"
      },
      "outputs": [
        {
          "output_type": "stream",
          "name": "stdout",
          "text": [
            "GPU is available.\n"
          ]
        }
      ],
      "source": [
        "import optuna\n",
        "from tensorflow.keras.layers import Dropout, LSTM, Dense, Input, GlobalMaxPooling1D, Embedding\n",
        "from tensorflow.keras.models import Model\n",
        "from tensorflow.keras.optimizers import Adam\n",
        "from tensorflow.keras.callbacks import EarlyStopping\n",
        "import tensorflow as tf\n",
        "\n",
        "# Check if GPU is available\n",
        "if tf.config.list_physical_devices('GPU'):\n",
        "    print(\"GPU is available.\")\n",
        "else:\n",
        "    print(\"GPU not available, using CPU.\")\n",
        "\n",
        "# Assuming your Yelp dataset is already preprocessed and available as `trainX`, `y_train`, `testX`, `y_test`\n",
        "\n",
        "# Optuna objective function\n",
        "def objective(trial):\n",
        "    # Suggest hyperparameters\n",
        "    embedding_dim = trial.suggest_categorical('embedding_dim', [15, 20, 25, 30])\n",
        "    lstm_units_1 = trial.suggest_categorical('lstm_units_1', [32, 64, 128])\n",
        "    lstm_units_2 = trial.suggest_categorical('lstm_units_2', [32, 64, 128])\n",
        "    dropout_rate = trial.suggest_categorical('dropout_rate', [0.1, 0.2])\n",
        "    learning_rate = trial.suggest_float('learning_rate', 1e-4, 1e-2, log=True)\n",
        "    batch_size = trial.suggest_categorical('batch_size', [32, 64])\n",
        "\n",
        "    with tf.device('/GPU:0'):  # Ensure GPU is used if available\n",
        "        i = Input(shape=(T,))\n",
        "        x = Embedding(V + 1, embedding_dim)(i)\n",
        "        x = LSTM(lstm_units_1, return_sequences=True)(x)  # First LSTM layer\n",
        "        x = Dropout(dropout_rate)(x)\n",
        "        x = LSTM(lstm_units_2, return_sequences=True)(x)  # Second LSTM layer with different units\n",
        "        x = Dropout(dropout_rate)(x)\n",
        "        x = GlobalMaxPooling1D()(x)\n",
        "        x = Dense(3, activation='softmax')(x)  # 3 classes for positive, neutral, and negative\n",
        "        model = Model(i, x)\n",
        "\n",
        "        # Compile the model\n",
        "        model.compile(loss='sparse_categorical_crossentropy', optimizer=Adam(learning_rate=learning_rate), metrics=['accuracy'])\n",
        "\n",
        "        # Early stopping\n",
        "        early_stopping = EarlyStopping(monitor='val_loss', patience=1, restore_best_weights=True)\n",
        "\n",
        "        # Train the model and show validation accuracy for each epoch\n",
        "        hist = model.fit(\n",
        "            trainX, y_train,\n",
        "            epochs=10,\n",
        "            batch_size=batch_size,  # Batch size is now a hyperparameter\n",
        "            validation_data=(testX, y_test),\n",
        "            callbacks=[early_stopping],\n",
        "            verbose=1  # Set verbose=1 to show progress and accuracy for each epoch\n",
        "        )\n",
        "\n",
        "        # Print validation accuracy for each epoch within the trial\n",
        "        for epoch, val_acc in enumerate(hist.history['val_accuracy'], 1):\n",
        "            print(f\"Trial {trial.number}, Epoch {epoch}, Validation Accuracy: {val_acc:.4f}\")\n",
        "\n",
        "        # Evaluate the model\n",
        "        loss, accuracy = model.evaluate(testX, y_test, verbose=0)\n",
        "        return accuracy\n"
      ]
    },
    {
      "cell_type": "code",
      "execution_count": 17,
      "metadata": {
        "colab": {
          "base_uri": "https://localhost:8080/",
          "height": 1000
        },
        "id": "qyAXbF_KClDY",
        "outputId": "614991a3-49ab-42e5-efcd-f2c2da4ed33f"
      },
      "outputs": [
        {
          "metadata": {
            "tags": null
          },
          "name": "stderr",
          "output_type": "stream",
          "text": [
            "[I 2024-08-13 15:29:17,246] A new study created in memory with name: no-name-774b9d12-4d3c-4a20-ba18-10f68f4cbe68\n"
          ]
        },
        {
          "metadata": {
            "tags": null
          },
          "name": "stdout",
          "output_type": "stream",
          "text": [
            "Epoch 1/10\n",
            "\u001b[1m249/249\u001b[0m \u001b[32m━━━━━━━━━━━━━━━━━━━━\u001b[0m\u001b[37m\u001b[0m \u001b[1m25s\u001b[0m 90ms/step - accuracy: 0.7549 - loss: 0.7771 - val_accuracy: 0.7696 - val_loss: 0.7088\n",
            "Epoch 2/10\n",
            "\u001b[1m249/249\u001b[0m \u001b[32m━━━━━━━━━━━━━━━━━━━━\u001b[0m\u001b[37m\u001b[0m \u001b[1m38s\u001b[0m 79ms/step - accuracy: 0.7711 - loss: 0.6965 - val_accuracy: 0.7696 - val_loss: 0.7036\n",
            "Epoch 3/10\n",
            "\u001b[1m249/249\u001b[0m \u001b[32m━━━━━━━━━━━━━━━━━━━━\u001b[0m\u001b[37m\u001b[0m \u001b[1m21s\u001b[0m 81ms/step - accuracy: 0.7708 - loss: 0.6967 - val_accuracy: 0.7696 - val_loss: 0.7060\n",
            "Trial 0, Epoch 1, Validation Accuracy: 0.7696\n",
            "Trial 0, Epoch 2, Validation Accuracy: 0.7696\n",
            "Trial 0, Epoch 3, Validation Accuracy: 0.7696\n"
          ]
        },
        {
          "metadata": {
            "tags": null
          },
          "name": "stderr",
          "output_type": "stream",
          "text": [
            "[I 2024-08-13 15:30:44,538] Trial 0 finished with value: 0.7695980072021484 and parameters: {'embedding_dim': 25, 'lstm_units_1': 128, 'lstm_units_2': 64, 'dropout_rate': 0.1, 'learning_rate': 0.000256274047619699, 'batch_size': 64}. Best is trial 0 with value: 0.7695980072021484.\n"
          ]
        },
        {
          "metadata": {
            "tags": null
          },
          "name": "stdout",
          "output_type": "stream",
          "text": [
            "Epoch 1/10\n",
            "\u001b[1m249/249\u001b[0m \u001b[32m━━━━━━━━━━━━━━━━━━━━\u001b[0m\u001b[37m\u001b[0m \u001b[1m36s\u001b[0m 81ms/step - accuracy: 0.7513 - loss: 0.7401 - val_accuracy: 0.7696 - val_loss: 0.6849\n",
            "Epoch 2/10\n",
            "\u001b[1m249/249\u001b[0m \u001b[32m━━━━━━━━━━━━━━━━━━━━\u001b[0m\u001b[37m\u001b[0m \u001b[1m21s\u001b[0m 84ms/step - accuracy: 0.7900 - loss: 0.5631 - val_accuracy: 0.8324 - val_loss: 0.4334\n",
            "Epoch 3/10\n",
            "\u001b[1m249/249\u001b[0m \u001b[32m━━━━━━━━━━━━━━━━━━━━\u001b[0m\u001b[37m\u001b[0m \u001b[1m40s\u001b[0m 79ms/step - accuracy: 0.8573 - loss: 0.3587 - val_accuracy: 0.8533 - val_loss: 0.3847\n",
            "Epoch 4/10\n",
            "\u001b[1m249/249\u001b[0m \u001b[32m━━━━━━━━━━━━━━━━━━━━\u001b[0m\u001b[37m\u001b[0m \u001b[1m21s\u001b[0m 81ms/step - accuracy: 0.8833 - loss: 0.2872 - val_accuracy: 0.8548 - val_loss: 0.3786\n",
            "Epoch 5/10\n",
            "\u001b[1m249/249\u001b[0m \u001b[32m━━━━━━━━━━━━━━━━━━━━\u001b[0m\u001b[37m\u001b[0m \u001b[1m20s\u001b[0m 79ms/step - accuracy: 0.9103 - loss: 0.2236 - val_accuracy: 0.8543 - val_loss: 0.3921\n",
            "Trial 1, Epoch 1, Validation Accuracy: 0.7696\n",
            "Trial 1, Epoch 2, Validation Accuracy: 0.8324\n",
            "Trial 1, Epoch 3, Validation Accuracy: 0.8533\n",
            "Trial 1, Epoch 4, Validation Accuracy: 0.8548\n",
            "Trial 1, Epoch 5, Validation Accuracy: 0.8543\n"
          ]
        },
        {
          "metadata": {
            "tags": null
          },
          "name": "stderr",
          "output_type": "stream",
          "text": [
            "[I 2024-08-13 15:33:08,067] Trial 1 finished with value: 0.8547738790512085 and parameters: {'embedding_dim': 15, 'lstm_units_1': 128, 'lstm_units_2': 64, 'dropout_rate': 0.1, 'learning_rate': 0.0013776954701494887, 'batch_size': 64}. Best is trial 1 with value: 0.8547738790512085.\n"
          ]
        },
        {
          "metadata": {
            "tags": null
          },
          "name": "stdout",
          "output_type": "stream",
          "text": [
            "Epoch 1/10\n",
            "\u001b[1m249/249\u001b[0m \u001b[32m━━━━━━━━━━━━━━━━━━━━\u001b[0m\u001b[37m\u001b[0m \u001b[1m20s\u001b[0m 70ms/step - accuracy: 0.7512 - loss: 0.8597 - val_accuracy: 0.7696 - val_loss: 0.7261\n",
            "Epoch 2/10\n",
            "\u001b[1m249/249\u001b[0m \u001b[32m━━━━━━━━━━━━━━━━━━━━\u001b[0m\u001b[37m\u001b[0m \u001b[1m16s\u001b[0m 63ms/step - accuracy: 0.7672 - loss: 0.7015 - val_accuracy: 0.7696 - val_loss: 0.7177\n",
            "Epoch 3/10\n",
            "\u001b[1m249/249\u001b[0m \u001b[32m━━━━━━━━━━━━━━━━━━━━\u001b[0m\u001b[37m\u001b[0m \u001b[1m21s\u001b[0m 64ms/step - accuracy: 0.7708 - loss: 0.6973 - val_accuracy: 0.7696 - val_loss: 0.7301\n",
            "Trial 2, Epoch 1, Validation Accuracy: 0.7696\n",
            "Trial 2, Epoch 2, Validation Accuracy: 0.7696\n",
            "Trial 2, Epoch 3, Validation Accuracy: 0.7696\n"
          ]
        },
        {
          "metadata": {
            "tags": null
          },
          "name": "stderr",
          "output_type": "stream",
          "text": [
            "[I 2024-08-13 15:34:14,046] Trial 2 finished with value: 0.7695980072021484 and parameters: {'embedding_dim': 20, 'lstm_units_1': 64, 'lstm_units_2': 32, 'dropout_rate': 0.2, 'learning_rate': 0.00012255861168988447, 'batch_size': 64}. Best is trial 1 with value: 0.8547738790512085.\n"
          ]
        },
        {
          "metadata": {
            "tags": null
          },
          "name": "stdout",
          "output_type": "stream",
          "text": [
            "Epoch 1/10\n",
            "\u001b[1m249/249\u001b[0m \u001b[32m━━━━━━━━━━━━━━━━━━━━\u001b[0m\u001b[37m\u001b[0m \u001b[1m25s\u001b[0m 94ms/step - accuracy: 0.7556 - loss: 0.7093 - val_accuracy: 0.7877 - val_loss: 0.6020\n",
            "Epoch 2/10\n",
            "\u001b[1m249/249\u001b[0m \u001b[32m━━━━━━━━━━━━━━━━━━━━\u001b[0m\u001b[37m\u001b[0m \u001b[1m40s\u001b[0m 92ms/step - accuracy: 0.8241 - loss: 0.4442 - val_accuracy: 0.8415 - val_loss: 0.4122\n",
            "Epoch 3/10\n",
            "\u001b[1m249/249\u001b[0m \u001b[32m━━━━━━━━━━━━━━━━━━━━\u001b[0m\u001b[37m\u001b[0m \u001b[1m23s\u001b[0m 93ms/step - accuracy: 0.8740 - loss: 0.2986 - val_accuracy: 0.8530 - val_loss: 0.3690\n",
            "Epoch 4/10\n",
            "\u001b[1m249/249\u001b[0m \u001b[32m━━━━━━━━━━━━━━━━━━━━\u001b[0m\u001b[37m\u001b[0m \u001b[1m23s\u001b[0m 92ms/step - accuracy: 0.9074 - loss: 0.2330 - val_accuracy: 0.8510 - val_loss: 0.3834\n",
            "Trial 3, Epoch 1, Validation Accuracy: 0.7877\n",
            "Trial 3, Epoch 2, Validation Accuracy: 0.8415\n",
            "Trial 3, Epoch 3, Validation Accuracy: 0.8530\n",
            "Trial 3, Epoch 4, Validation Accuracy: 0.8510\n"
          ]
        },
        {
          "metadata": {
            "tags": null
          },
          "name": "stderr",
          "output_type": "stream",
          "text": [
            "[I 2024-08-13 15:36:11,290] Trial 3 finished with value: 0.8530150651931763 and parameters: {'embedding_dim': 25, 'lstm_units_1': 128, 'lstm_units_2': 128, 'dropout_rate': 0.2, 'learning_rate': 0.007289846511521691, 'batch_size': 64}. Best is trial 1 with value: 0.8547738790512085.\n"
          ]
        },
        {
          "metadata": {
            "tags": null
          },
          "name": "stdout",
          "output_type": "stream",
          "text": [
            "Epoch 1/10\n",
            "\u001b[1m249/249\u001b[0m \u001b[32m━━━━━━━━━━━━━━━━━━━━\u001b[0m\u001b[37m\u001b[0m \u001b[1m20s\u001b[0m 70ms/step - accuracy: 0.7657 - loss: 0.8057 - val_accuracy: 0.7696 - val_loss: 0.7056\n",
            "Epoch 2/10\n",
            "\u001b[1m249/249\u001b[0m \u001b[32m━━━━━━━━━━━━━━━━━━━━\u001b[0m\u001b[37m\u001b[0m \u001b[1m21s\u001b[0m 74ms/step - accuracy: 0.7650 - loss: 0.7074 - val_accuracy: 0.7696 - val_loss: 0.7005\n",
            "Epoch 3/10\n",
            "\u001b[1m249/249\u001b[0m \u001b[32m━━━━━━━━━━━━━━━━━━━━\u001b[0m\u001b[37m\u001b[0m \u001b[1m19s\u001b[0m 68ms/step - accuracy: 0.7644 - loss: 0.6732 - val_accuracy: 0.8309 - val_loss: 0.4854\n",
            "Epoch 4/10\n",
            "\u001b[1m249/249\u001b[0m \u001b[32m━━━━━━━━━━━━━━━━━━━━\u001b[0m\u001b[37m\u001b[0m \u001b[1m21s\u001b[0m 70ms/step - accuracy: 0.8429 - loss: 0.4328 - val_accuracy: 0.8467 - val_loss: 0.4092\n",
            "Epoch 5/10\n",
            "\u001b[1m249/249\u001b[0m \u001b[32m━━━━━━━━━━━━━━━━━━━━\u001b[0m\u001b[37m\u001b[0m \u001b[1m20s\u001b[0m 69ms/step - accuracy: 0.8563 - loss: 0.3603 - val_accuracy: 0.8540 - val_loss: 0.3893\n",
            "Epoch 6/10\n",
            "\u001b[1m249/249\u001b[0m \u001b[32m━━━━━━━━━━━━━━━━━━━━\u001b[0m\u001b[37m\u001b[0m \u001b[1m21s\u001b[0m 71ms/step - accuracy: 0.8740 - loss: 0.3185 - val_accuracy: 0.8475 - val_loss: 0.3941\n",
            "Trial 4, Epoch 1, Validation Accuracy: 0.7696\n",
            "Trial 4, Epoch 2, Validation Accuracy: 0.7696\n",
            "Trial 4, Epoch 3, Validation Accuracy: 0.8309\n",
            "Trial 4, Epoch 4, Validation Accuracy: 0.8467\n",
            "Trial 4, Epoch 5, Validation Accuracy: 0.8540\n",
            "Trial 4, Epoch 6, Validation Accuracy: 0.8475\n"
          ]
        },
        {
          "metadata": {
            "tags": null
          },
          "name": "stderr",
          "output_type": "stream",
          "text": [
            "[I 2024-08-13 15:38:19,308] Trial 4 finished with value: 0.8540201187133789 and parameters: {'embedding_dim': 25, 'lstm_units_1': 64, 'lstm_units_2': 64, 'dropout_rate': 0.1, 'learning_rate': 0.00019566851617947817, 'batch_size': 64}. Best is trial 1 with value: 0.8547738790512085.\n"
          ]
        },
        {
          "metadata": {
            "tags": null
          },
          "name": "stdout",
          "output_type": "stream",
          "text": [
            "Epoch 1/10\n",
            "\u001b[1m249/249\u001b[0m \u001b[32m━━━━━━━━━━━━━━━━━━━━\u001b[0m\u001b[37m\u001b[0m \u001b[1m19s\u001b[0m 70ms/step - accuracy: 0.7564 - loss: 0.7730 - val_accuracy: 0.7696 - val_loss: 0.7089\n",
            "Epoch 2/10\n",
            "\u001b[1m249/249\u001b[0m \u001b[32m━━━━━━━━━━━━━━━━━━━━\u001b[0m\u001b[37m\u001b[0m \u001b[1m20s\u001b[0m 68ms/step - accuracy: 0.7882 - loss: 0.6065 - val_accuracy: 0.8407 - val_loss: 0.4320\n",
            "Epoch 3/10\n",
            "\u001b[1m249/249\u001b[0m \u001b[32m━━━━━━━━━━━━━━━━━━━━\u001b[0m\u001b[37m\u001b[0m \u001b[1m21s\u001b[0m 70ms/step - accuracy: 0.8502 - loss: 0.3721 - val_accuracy: 0.8417 - val_loss: 0.3973\n",
            "Epoch 4/10\n",
            "\u001b[1m249/249\u001b[0m \u001b[32m━━━━━━━━━━━━━━━━━━━━\u001b[0m\u001b[37m\u001b[0m \u001b[1m20s\u001b[0m 68ms/step - accuracy: 0.8720 - loss: 0.3097 - val_accuracy: 0.8425 - val_loss: 0.3824\n",
            "Epoch 5/10\n",
            "\u001b[1m249/249\u001b[0m \u001b[32m━━━━━━━━━━━━━━━━━━━━\u001b[0m\u001b[37m\u001b[0m \u001b[1m21s\u001b[0m 71ms/step - accuracy: 0.8945 - loss: 0.2678 - val_accuracy: 0.8505 - val_loss: 0.3998\n",
            "Trial 5, Epoch 1, Validation Accuracy: 0.7696\n",
            "Trial 5, Epoch 2, Validation Accuracy: 0.8407\n",
            "Trial 5, Epoch 3, Validation Accuracy: 0.8417\n",
            "Trial 5, Epoch 4, Validation Accuracy: 0.8425\n",
            "Trial 5, Epoch 5, Validation Accuracy: 0.8505\n"
          ]
        },
        {
          "metadata": {
            "tags": null
          },
          "name": "stderr",
          "output_type": "stream",
          "text": [
            "[I 2024-08-13 15:40:06,322] Trial 5 finished with value: 0.8424623012542725 and parameters: {'embedding_dim': 20, 'lstm_units_1': 64, 'lstm_units_2': 64, 'dropout_rate': 0.1, 'learning_rate': 0.0004519655629885417, 'batch_size': 64}. Best is trial 1 with value: 0.8547738790512085.\n"
          ]
        },
        {
          "metadata": {
            "tags": null
          },
          "name": "stdout",
          "output_type": "stream",
          "text": [
            "Epoch 1/10\n",
            "\u001b[1m249/249\u001b[0m \u001b[32m━━━━━━━━━━━━━━━━━━━━\u001b[0m\u001b[37m\u001b[0m \u001b[1m22s\u001b[0m 82ms/step - accuracy: 0.7563 - loss: 0.7364 - val_accuracy: 0.8171 - val_loss: 0.5015\n",
            "Epoch 2/10\n",
            "\u001b[1m249/249\u001b[0m \u001b[32m━━━━━━━━━━━━━━━━━━━━\u001b[0m\u001b[37m\u001b[0m \u001b[1m20s\u001b[0m 79ms/step - accuracy: 0.8242 - loss: 0.4547 - val_accuracy: 0.8440 - val_loss: 0.3937\n",
            "Epoch 3/10\n",
            "\u001b[1m249/249\u001b[0m \u001b[32m━━━━━━━━━━━━━━━━━━━━\u001b[0m\u001b[37m\u001b[0m \u001b[1m20s\u001b[0m 80ms/step - accuracy: 0.8773 - loss: 0.3206 - val_accuracy: 0.8533 - val_loss: 0.3827\n",
            "Epoch 4/10\n",
            "\u001b[1m249/249\u001b[0m \u001b[32m━━━━━━━━━━━━━━━━━━━━\u001b[0m\u001b[37m\u001b[0m \u001b[1m21s\u001b[0m 82ms/step - accuracy: 0.8908 - loss: 0.2753 - val_accuracy: 0.8533 - val_loss: 0.3793\n",
            "Epoch 5/10\n",
            "\u001b[1m249/249\u001b[0m \u001b[32m━━━━━━━━━━━━━━━━━━━━\u001b[0m\u001b[37m\u001b[0m \u001b[1m21s\u001b[0m 83ms/step - accuracy: 0.9104 - loss: 0.2291 - val_accuracy: 0.8420 - val_loss: 0.4125\n",
            "Trial 6, Epoch 1, Validation Accuracy: 0.8171\n",
            "Trial 6, Epoch 2, Validation Accuracy: 0.8440\n",
            "Trial 6, Epoch 3, Validation Accuracy: 0.8533\n",
            "Trial 6, Epoch 4, Validation Accuracy: 0.8533\n",
            "Trial 6, Epoch 5, Validation Accuracy: 0.8420\n"
          ]
        },
        {
          "metadata": {
            "tags": null
          },
          "name": "stderr",
          "output_type": "stream",
          "text": [
            "[I 2024-08-13 15:42:15,510] Trial 6 finished with value: 0.8532663583755493 and parameters: {'embedding_dim': 20, 'lstm_units_1': 64, 'lstm_units_2': 128, 'dropout_rate': 0.1, 'learning_rate': 0.0006389413032535631, 'batch_size': 64}. Best is trial 1 with value: 0.8547738790512085.\n"
          ]
        },
        {
          "metadata": {
            "tags": null
          },
          "name": "stdout",
          "output_type": "stream",
          "text": [
            "Epoch 1/10\n",
            "\u001b[1m498/498\u001b[0m \u001b[32m━━━━━━━━━━━━━━━━━━━━\u001b[0m\u001b[37m\u001b[0m \u001b[1m32s\u001b[0m 60ms/step - accuracy: 0.7746 - loss: 0.6551 - val_accuracy: 0.8382 - val_loss: 0.4193\n",
            "Epoch 2/10\n",
            "\u001b[1m498/498\u001b[0m \u001b[32m━━━━━━━━━━━━━━━━━━━━\u001b[0m\u001b[37m\u001b[0m \u001b[1m41s\u001b[0m 60ms/step - accuracy: 0.8630 - loss: 0.3349 - val_accuracy: 0.8543 - val_loss: 0.3757\n",
            "Epoch 3/10\n",
            "\u001b[1m498/498\u001b[0m \u001b[32m━━━━━━━━━━━━━━━━━━━━\u001b[0m\u001b[37m\u001b[0m \u001b[1m41s\u001b[0m 60ms/step - accuracy: 0.8938 - loss: 0.2552 - val_accuracy: 0.8500 - val_loss: 0.3744\n",
            "Epoch 4/10\n",
            "\u001b[1m498/498\u001b[0m \u001b[32m━━━━━━━━━━━━━━━━━━━━\u001b[0m\u001b[37m\u001b[0m \u001b[1m44s\u001b[0m 65ms/step - accuracy: 0.9261 - loss: 0.1872 - val_accuracy: 0.8420 - val_loss: 0.4041\n",
            "Trial 7, Epoch 1, Validation Accuracy: 0.8382\n",
            "Trial 7, Epoch 2, Validation Accuracy: 0.8543\n",
            "Trial 7, Epoch 3, Validation Accuracy: 0.8500\n",
            "Trial 7, Epoch 4, Validation Accuracy: 0.8420\n"
          ]
        },
        {
          "metadata": {
            "tags": null
          },
          "name": "stderr",
          "output_type": "stream",
          "text": [
            "[I 2024-08-13 15:45:04,893] Trial 7 finished with value: 0.8500000238418579 and parameters: {'embedding_dim': 15, 'lstm_units_1': 32, 'lstm_units_2': 32, 'dropout_rate': 0.2, 'learning_rate': 0.006202309537919874, 'batch_size': 32}. Best is trial 1 with value: 0.8547738790512085.\n"
          ]
        },
        {
          "output_type": "stream",
          "name": "stdout",
          "text": [
            "Epoch 1/10\n",
            "\u001b[1m498/498\u001b[0m \u001b[32m━━━━━━━━━━━━━━━━━━━━\u001b[0m\u001b[37m\u001b[0m \u001b[1m40s\u001b[0m 76ms/step - accuracy: 0.7695 - loss: 0.7265 - val_accuracy: 0.8309 - val_loss: 0.4734\n",
            "Epoch 2/10\n",
            "\u001b[1m498/498\u001b[0m \u001b[32m━━━━━━━━━━━━━━━━━━━━\u001b[0m\u001b[37m\u001b[0m \u001b[1m36s\u001b[0m 71ms/step - accuracy: 0.8435 - loss: 0.4001 - val_accuracy: 0.8505 - val_loss: 0.3962\n",
            "Epoch 3/10\n",
            "\u001b[1m498/498\u001b[0m \u001b[32m━━━━━━━━━━━━━━━━━━━━\u001b[0m\u001b[37m\u001b[0m \u001b[1m41s\u001b[0m 71ms/step - accuracy: 0.8698 - loss: 0.3141 - val_accuracy: 0.8533 - val_loss: 0.3814\n",
            "Epoch 4/10\n",
            "\u001b[1m498/498\u001b[0m \u001b[32m━━━━━━━━━━━━━━━━━━━━\u001b[0m\u001b[37m\u001b[0m \u001b[1m41s\u001b[0m 70ms/step - accuracy: 0.8958 - loss: 0.2609 - val_accuracy: 0.8495 - val_loss: 0.3803\n",
            "Epoch 5/10\n",
            "\u001b[1m498/498\u001b[0m \u001b[32m━━━━━━━━━━━━━━━━━━━━\u001b[0m\u001b[37m\u001b[0m \u001b[1m36s\u001b[0m 72ms/step - accuracy: 0.9159 - loss: 0.2218 - val_accuracy: 0.8354 - val_loss: 0.4029\n",
            "Trial 8, Epoch 1, Validation Accuracy: 0.8309\n",
            "Trial 8, Epoch 2, Validation Accuracy: 0.8505\n",
            "Trial 8, Epoch 3, Validation Accuracy: 0.8533\n",
            "Trial 8, Epoch 4, Validation Accuracy: 0.8495\n",
            "Trial 8, Epoch 5, Validation Accuracy: 0.8354\n"
          ]
        },
        {
          "output_type": "stream",
          "name": "stderr",
          "text": [
            "[I 2024-08-13 15:48:23,908] Trial 8 finished with value: 0.8494974970817566 and parameters: {'embedding_dim': 20, 'lstm_units_1': 128, 'lstm_units_2': 128, 'dropout_rate': 0.2, 'learning_rate': 0.0004992393723690642, 'batch_size': 32}. Best is trial 1 with value: 0.8547738790512085.\n"
          ]
        },
        {
          "output_type": "stream",
          "name": "stdout",
          "text": [
            "Epoch 1/10\n",
            "\u001b[1m498/498\u001b[0m \u001b[32m━━━━━━━━━━━━━━━━━━━━\u001b[0m\u001b[37m\u001b[0m \u001b[1m36s\u001b[0m 68ms/step - accuracy: 0.7562 - loss: 0.7332 - val_accuracy: 0.7696 - val_loss: 0.7050\n",
            "Epoch 2/10\n",
            "\u001b[1m498/498\u001b[0m \u001b[32m━━━━━━━━━━━━━━━━━━━━\u001b[0m\u001b[37m\u001b[0m \u001b[1m34s\u001b[0m 69ms/step - accuracy: 0.8037 - loss: 0.5467 - val_accuracy: 0.8387 - val_loss: 0.4321\n",
            "Epoch 3/10\n",
            "\u001b[1m498/498\u001b[0m \u001b[32m━━━━━━━━━━━━━━━━━━━━\u001b[0m\u001b[37m\u001b[0m \u001b[1m41s\u001b[0m 69ms/step - accuracy: 0.8672 - loss: 0.3274 - val_accuracy: 0.8440 - val_loss: 0.3880\n",
            "Epoch 4/10\n",
            "\u001b[1m498/498\u001b[0m \u001b[32m━━━━━━━━━━━━━━━━━━━━\u001b[0m\u001b[37m\u001b[0m \u001b[1m41s\u001b[0m 69ms/step - accuracy: 0.8883 - loss: 0.2679 - val_accuracy: 0.8420 - val_loss: 0.3988\n",
            "Trial 9, Epoch 1, Validation Accuracy: 0.7696\n",
            "Trial 9, Epoch 2, Validation Accuracy: 0.8387\n",
            "Trial 9, Epoch 3, Validation Accuracy: 0.8440\n",
            "Trial 9, Epoch 4, Validation Accuracy: 0.8420\n"
          ]
        },
        {
          "output_type": "stream",
          "name": "stderr",
          "text": [
            "[I 2024-08-13 15:51:06,173] Trial 9 finished with value: 0.8439698219299316 and parameters: {'embedding_dim': 20, 'lstm_units_1': 64, 'lstm_units_2': 128, 'dropout_rate': 0.2, 'learning_rate': 0.0006028764536872, 'batch_size': 32}. Best is trial 1 with value: 0.8547738790512085.\n"
          ]
        },
        {
          "output_type": "stream",
          "name": "stdout",
          "text": [
            "Best trial:\n",
            "  Value: 0.8547738790512085\n",
            "  Params: \n",
            "    embedding_dim: 15\n",
            "    lstm_units_1: 128\n",
            "    lstm_units_2: 64\n",
            "    dropout_rate: 0.1\n",
            "    learning_rate: 0.0013776954701494887\n",
            "    batch_size: 64\n"
          ]
        },
        {
          "output_type": "display_data",
          "data": {
            "text/html": [
              "<html>\n",
              "<head><meta charset=\"utf-8\" /></head>\n",
              "<body>\n",
              "    <div>            <script src=\"https://cdnjs.cloudflare.com/ajax/libs/mathjax/2.7.5/MathJax.js?config=TeX-AMS-MML_SVG\"></script><script type=\"text/javascript\">if (window.MathJax && window.MathJax.Hub && window.MathJax.Hub.Config) {window.MathJax.Hub.Config({SVG: {font: \"STIX-Web\"}});}</script>                <script type=\"text/javascript\">window.PlotlyConfig = {MathJaxConfig: 'local'};</script>\n",
              "        <script charset=\"utf-8\" src=\"https://cdn.plot.ly/plotly-2.24.1.min.js\"></script>                <div id=\"3c266093-725f-47cb-9095-e40cedd70f94\" class=\"plotly-graph-div\" style=\"height:525px; width:100%;\"></div>            <script type=\"text/javascript\">                                    window.PLOTLYENV=window.PLOTLYENV || {};                                    if (document.getElementById(\"3c266093-725f-47cb-9095-e40cedd70f94\")) {                    Plotly.newPlot(                        \"3c266093-725f-47cb-9095-e40cedd70f94\",                        [{\"mode\":\"markers\",\"name\":\"Objective Value\",\"x\":[0,1,2,3,4,5,6,7,8,9],\"y\":[0.7695980072021484,0.8547738790512085,0.7695980072021484,0.8530150651931763,0.8540201187133789,0.8424623012542725,0.8532663583755493,0.8500000238418579,0.8494974970817566,0.8439698219299316],\"type\":\"scatter\"},{\"mode\":\"lines\",\"name\":\"Best Value\",\"x\":[0,1,2,3,4,5,6,7,8,9],\"y\":[0.7695980072021484,0.8547738790512085,0.8547738790512085,0.8547738790512085,0.8547738790512085,0.8547738790512085,0.8547738790512085,0.8547738790512085,0.8547738790512085,0.8547738790512085],\"type\":\"scatter\"},{\"marker\":{\"color\":\"#cccccc\"},\"mode\":\"markers\",\"name\":\"Infeasible Trial\",\"showlegend\":false,\"x\":[],\"y\":[],\"type\":\"scatter\"}],                        {\"title\":{\"text\":\"Optimization History Plot\"},\"xaxis\":{\"title\":{\"text\":\"Trial\"}},\"yaxis\":{\"title\":{\"text\":\"Objective Value\"}},\"template\":{\"data\":{\"histogram2dcontour\":[{\"type\":\"histogram2dcontour\",\"colorbar\":{\"outlinewidth\":0,\"ticks\":\"\"},\"colorscale\":[[0.0,\"#0d0887\"],[0.1111111111111111,\"#46039f\"],[0.2222222222222222,\"#7201a8\"],[0.3333333333333333,\"#9c179e\"],[0.4444444444444444,\"#bd3786\"],[0.5555555555555556,\"#d8576b\"],[0.6666666666666666,\"#ed7953\"],[0.7777777777777778,\"#fb9f3a\"],[0.8888888888888888,\"#fdca26\"],[1.0,\"#f0f921\"]]}],\"choropleth\":[{\"type\":\"choropleth\",\"colorbar\":{\"outlinewidth\":0,\"ticks\":\"\"}}],\"histogram2d\":[{\"type\":\"histogram2d\",\"colorbar\":{\"outlinewidth\":0,\"ticks\":\"\"},\"colorscale\":[[0.0,\"#0d0887\"],[0.1111111111111111,\"#46039f\"],[0.2222222222222222,\"#7201a8\"],[0.3333333333333333,\"#9c179e\"],[0.4444444444444444,\"#bd3786\"],[0.5555555555555556,\"#d8576b\"],[0.6666666666666666,\"#ed7953\"],[0.7777777777777778,\"#fb9f3a\"],[0.8888888888888888,\"#fdca26\"],[1.0,\"#f0f921\"]]}],\"heatmap\":[{\"type\":\"heatmap\",\"colorbar\":{\"outlinewidth\":0,\"ticks\":\"\"},\"colorscale\":[[0.0,\"#0d0887\"],[0.1111111111111111,\"#46039f\"],[0.2222222222222222,\"#7201a8\"],[0.3333333333333333,\"#9c179e\"],[0.4444444444444444,\"#bd3786\"],[0.5555555555555556,\"#d8576b\"],[0.6666666666666666,\"#ed7953\"],[0.7777777777777778,\"#fb9f3a\"],[0.8888888888888888,\"#fdca26\"],[1.0,\"#f0f921\"]]}],\"heatmapgl\":[{\"type\":\"heatmapgl\",\"colorbar\":{\"outlinewidth\":0,\"ticks\":\"\"},\"colorscale\":[[0.0,\"#0d0887\"],[0.1111111111111111,\"#46039f\"],[0.2222222222222222,\"#7201a8\"],[0.3333333333333333,\"#9c179e\"],[0.4444444444444444,\"#bd3786\"],[0.5555555555555556,\"#d8576b\"],[0.6666666666666666,\"#ed7953\"],[0.7777777777777778,\"#fb9f3a\"],[0.8888888888888888,\"#fdca26\"],[1.0,\"#f0f921\"]]}],\"contourcarpet\":[{\"type\":\"contourcarpet\",\"colorbar\":{\"outlinewidth\":0,\"ticks\":\"\"}}],\"contour\":[{\"type\":\"contour\",\"colorbar\":{\"outlinewidth\":0,\"ticks\":\"\"},\"colorscale\":[[0.0,\"#0d0887\"],[0.1111111111111111,\"#46039f\"],[0.2222222222222222,\"#7201a8\"],[0.3333333333333333,\"#9c179e\"],[0.4444444444444444,\"#bd3786\"],[0.5555555555555556,\"#d8576b\"],[0.6666666666666666,\"#ed7953\"],[0.7777777777777778,\"#fb9f3a\"],[0.8888888888888888,\"#fdca26\"],[1.0,\"#f0f921\"]]}],\"surface\":[{\"type\":\"surface\",\"colorbar\":{\"outlinewidth\":0,\"ticks\":\"\"},\"colorscale\":[[0.0,\"#0d0887\"],[0.1111111111111111,\"#46039f\"],[0.2222222222222222,\"#7201a8\"],[0.3333333333333333,\"#9c179e\"],[0.4444444444444444,\"#bd3786\"],[0.5555555555555556,\"#d8576b\"],[0.6666666666666666,\"#ed7953\"],[0.7777777777777778,\"#fb9f3a\"],[0.8888888888888888,\"#fdca26\"],[1.0,\"#f0f921\"]]}],\"mesh3d\":[{\"type\":\"mesh3d\",\"colorbar\":{\"outlinewidth\":0,\"ticks\":\"\"}}],\"scatter\":[{\"fillpattern\":{\"fillmode\":\"overlay\",\"size\":10,\"solidity\":0.2},\"type\":\"scatter\"}],\"parcoords\":[{\"type\":\"parcoords\",\"line\":{\"colorbar\":{\"outlinewidth\":0,\"ticks\":\"\"}}}],\"scatterpolargl\":[{\"type\":\"scatterpolargl\",\"marker\":{\"colorbar\":{\"outlinewidth\":0,\"ticks\":\"\"}}}],\"bar\":[{\"error_x\":{\"color\":\"#2a3f5f\"},\"error_y\":{\"color\":\"#2a3f5f\"},\"marker\":{\"line\":{\"color\":\"#E5ECF6\",\"width\":0.5},\"pattern\":{\"fillmode\":\"overlay\",\"size\":10,\"solidity\":0.2}},\"type\":\"bar\"}],\"scattergeo\":[{\"type\":\"scattergeo\",\"marker\":{\"colorbar\":{\"outlinewidth\":0,\"ticks\":\"\"}}}],\"scatterpolar\":[{\"type\":\"scatterpolar\",\"marker\":{\"colorbar\":{\"outlinewidth\":0,\"ticks\":\"\"}}}],\"histogram\":[{\"marker\":{\"pattern\":{\"fillmode\":\"overlay\",\"size\":10,\"solidity\":0.2}},\"type\":\"histogram\"}],\"scattergl\":[{\"type\":\"scattergl\",\"marker\":{\"colorbar\":{\"outlinewidth\":0,\"ticks\":\"\"}}}],\"scatter3d\":[{\"type\":\"scatter3d\",\"line\":{\"colorbar\":{\"outlinewidth\":0,\"ticks\":\"\"}},\"marker\":{\"colorbar\":{\"outlinewidth\":0,\"ticks\":\"\"}}}],\"scattermapbox\":[{\"type\":\"scattermapbox\",\"marker\":{\"colorbar\":{\"outlinewidth\":0,\"ticks\":\"\"}}}],\"scatterternary\":[{\"type\":\"scatterternary\",\"marker\":{\"colorbar\":{\"outlinewidth\":0,\"ticks\":\"\"}}}],\"scattercarpet\":[{\"type\":\"scattercarpet\",\"marker\":{\"colorbar\":{\"outlinewidth\":0,\"ticks\":\"\"}}}],\"carpet\":[{\"aaxis\":{\"endlinecolor\":\"#2a3f5f\",\"gridcolor\":\"white\",\"linecolor\":\"white\",\"minorgridcolor\":\"white\",\"startlinecolor\":\"#2a3f5f\"},\"baxis\":{\"endlinecolor\":\"#2a3f5f\",\"gridcolor\":\"white\",\"linecolor\":\"white\",\"minorgridcolor\":\"white\",\"startlinecolor\":\"#2a3f5f\"},\"type\":\"carpet\"}],\"table\":[{\"cells\":{\"fill\":{\"color\":\"#EBF0F8\"},\"line\":{\"color\":\"white\"}},\"header\":{\"fill\":{\"color\":\"#C8D4E3\"},\"line\":{\"color\":\"white\"}},\"type\":\"table\"}],\"barpolar\":[{\"marker\":{\"line\":{\"color\":\"#E5ECF6\",\"width\":0.5},\"pattern\":{\"fillmode\":\"overlay\",\"size\":10,\"solidity\":0.2}},\"type\":\"barpolar\"}],\"pie\":[{\"automargin\":true,\"type\":\"pie\"}]},\"layout\":{\"autotypenumbers\":\"strict\",\"colorway\":[\"#636efa\",\"#EF553B\",\"#00cc96\",\"#ab63fa\",\"#FFA15A\",\"#19d3f3\",\"#FF6692\",\"#B6E880\",\"#FF97FF\",\"#FECB52\"],\"font\":{\"color\":\"#2a3f5f\"},\"hovermode\":\"closest\",\"hoverlabel\":{\"align\":\"left\"},\"paper_bgcolor\":\"white\",\"plot_bgcolor\":\"#E5ECF6\",\"polar\":{\"bgcolor\":\"#E5ECF6\",\"angularaxis\":{\"gridcolor\":\"white\",\"linecolor\":\"white\",\"ticks\":\"\"},\"radialaxis\":{\"gridcolor\":\"white\",\"linecolor\":\"white\",\"ticks\":\"\"}},\"ternary\":{\"bgcolor\":\"#E5ECF6\",\"aaxis\":{\"gridcolor\":\"white\",\"linecolor\":\"white\",\"ticks\":\"\"},\"baxis\":{\"gridcolor\":\"white\",\"linecolor\":\"white\",\"ticks\":\"\"},\"caxis\":{\"gridcolor\":\"white\",\"linecolor\":\"white\",\"ticks\":\"\"}},\"coloraxis\":{\"colorbar\":{\"outlinewidth\":0,\"ticks\":\"\"}},\"colorscale\":{\"sequential\":[[0.0,\"#0d0887\"],[0.1111111111111111,\"#46039f\"],[0.2222222222222222,\"#7201a8\"],[0.3333333333333333,\"#9c179e\"],[0.4444444444444444,\"#bd3786\"],[0.5555555555555556,\"#d8576b\"],[0.6666666666666666,\"#ed7953\"],[0.7777777777777778,\"#fb9f3a\"],[0.8888888888888888,\"#fdca26\"],[1.0,\"#f0f921\"]],\"sequentialminus\":[[0.0,\"#0d0887\"],[0.1111111111111111,\"#46039f\"],[0.2222222222222222,\"#7201a8\"],[0.3333333333333333,\"#9c179e\"],[0.4444444444444444,\"#bd3786\"],[0.5555555555555556,\"#d8576b\"],[0.6666666666666666,\"#ed7953\"],[0.7777777777777778,\"#fb9f3a\"],[0.8888888888888888,\"#fdca26\"],[1.0,\"#f0f921\"]],\"diverging\":[[0,\"#8e0152\"],[0.1,\"#c51b7d\"],[0.2,\"#de77ae\"],[0.3,\"#f1b6da\"],[0.4,\"#fde0ef\"],[0.5,\"#f7f7f7\"],[0.6,\"#e6f5d0\"],[0.7,\"#b8e186\"],[0.8,\"#7fbc41\"],[0.9,\"#4d9221\"],[1,\"#276419\"]]},\"xaxis\":{\"gridcolor\":\"white\",\"linecolor\":\"white\",\"ticks\":\"\",\"title\":{\"standoff\":15},\"zerolinecolor\":\"white\",\"automargin\":true,\"zerolinewidth\":2},\"yaxis\":{\"gridcolor\":\"white\",\"linecolor\":\"white\",\"ticks\":\"\",\"title\":{\"standoff\":15},\"zerolinecolor\":\"white\",\"automargin\":true,\"zerolinewidth\":2},\"scene\":{\"xaxis\":{\"backgroundcolor\":\"#E5ECF6\",\"gridcolor\":\"white\",\"linecolor\":\"white\",\"showbackground\":true,\"ticks\":\"\",\"zerolinecolor\":\"white\",\"gridwidth\":2},\"yaxis\":{\"backgroundcolor\":\"#E5ECF6\",\"gridcolor\":\"white\",\"linecolor\":\"white\",\"showbackground\":true,\"ticks\":\"\",\"zerolinecolor\":\"white\",\"gridwidth\":2},\"zaxis\":{\"backgroundcolor\":\"#E5ECF6\",\"gridcolor\":\"white\",\"linecolor\":\"white\",\"showbackground\":true,\"ticks\":\"\",\"zerolinecolor\":\"white\",\"gridwidth\":2}},\"shapedefaults\":{\"line\":{\"color\":\"#2a3f5f\"}},\"annotationdefaults\":{\"arrowcolor\":\"#2a3f5f\",\"arrowhead\":0,\"arrowwidth\":1},\"geo\":{\"bgcolor\":\"white\",\"landcolor\":\"#E5ECF6\",\"subunitcolor\":\"white\",\"showland\":true,\"showlakes\":true,\"lakecolor\":\"white\"},\"title\":{\"x\":0.05},\"mapbox\":{\"style\":\"light\"}}}},                        {\"responsive\": true}                    ).then(function(){\n",
              "                            \n",
              "var gd = document.getElementById('3c266093-725f-47cb-9095-e40cedd70f94');\n",
              "var x = new MutationObserver(function (mutations, observer) {{\n",
              "        var display = window.getComputedStyle(gd).display;\n",
              "        if (!display || display === 'none') {{\n",
              "            console.log([gd, 'removed!']);\n",
              "            Plotly.purge(gd);\n",
              "            observer.disconnect();\n",
              "        }}\n",
              "}});\n",
              "\n",
              "// Listen for the removal of the full notebook cells\n",
              "var notebookContainer = gd.closest('#notebook-container');\n",
              "if (notebookContainer) {{\n",
              "    x.observe(notebookContainer, {childList: true});\n",
              "}}\n",
              "\n",
              "// Listen for the clearing of the current output cell\n",
              "var outputEl = gd.closest('.output');\n",
              "if (outputEl) {{\n",
              "    x.observe(outputEl, {childList: true});\n",
              "}}\n",
              "\n",
              "                        })                };                            </script>        </div>\n",
              "</body>\n",
              "</html>"
            ]
          },
          "metadata": {}
        }
      ],
      "source": [
        "from tensorflow.keras.callbacks import EarlyStopping\n",
        "# Create and optimize the study\n",
        "study = optuna.create_study(direction='maximize')\n",
        "study.optimize(objective, n_trials=10)\n",
        "\n",
        "# Best trial\n",
        "print(\"Best trial:\")\n",
        "trial = study.best_trial\n",
        "\n",
        "print(f\"  Value: {trial.value}\")\n",
        "print(\"  Params: \")\n",
        "for key, value in trial.params.items():\n",
        "    print(f\"    {key}: {value}\")\n",
        "\n",
        "# Visualize the optimization history\n",
        "optuna.visualization.plot_optimization_history(study).show()\n",
        "\n",
        "\n"
      ]
    },
    {
      "cell_type": "code",
      "source": [
        "\n",
        "# Train the final model with the best parameters found\n",
        "best_params = trial.params\n",
        "embedding_dim = best_params['embedding_dim']\n",
        "lstm_units_1 = best_params['lstm_units_1']\n",
        "lstm_units_2 = best_params['lstm_units_2']\n",
        "dropout_rate = best_params['dropout_rate']\n",
        "learning_rate = best_params['learning_rate']\n",
        "batch_size = best_params['batch_size']\n",
        "\n",
        "#early stopping:\n",
        "early_stopping = EarlyStopping(monitor='val_loss', patience=1, restore_best_weights=True)\n",
        "\n",
        "with tf.device('/GPU:0'):  # Ensure GPU is used if available\n",
        "    i = Input(shape=(T,))\n",
        "    x = Embedding(V + 1, embedding_dim)(i)\n",
        "    x = LSTM(lstm_units_1, return_sequences=True)(x)  # First LSTM layer\n",
        "    x = Dropout(dropout_rate)(x)\n",
        "    x = LSTM(lstm_units_2, return_sequences=True)(x)  # Second LSTM layer with different units\n",
        "    x = Dropout(dropout_rate)(x)\n",
        "    x = GlobalMaxPooling1D()(x)\n",
        "    x = Dense(3, activation='softmax')(x)  # 3 classes for positive, neutral, and negative\n",
        "    model = Model(i, x)\n",
        "\n",
        "    # Compile the model\n",
        "    model.compile(loss='sparse_categorical_crossentropy', optimizer=Adam(learning_rate=learning_rate), metrics=['accuracy'])\n",
        "\n",
        "    # Train the model with the best hyperparameters\n",
        "    hist = model.fit(trainX, y_train, epochs=10, batch_size=batch_size, validation_data=(testX, y_test), callbacks=[early_stopping], verbose=1)"
      ],
      "metadata": {
        "colab": {
          "base_uri": "https://localhost:8080/"
        },
        "id": "1_5L2hFEUBKQ",
        "outputId": "ba249377-09b2-40d4-d0ee-4425f424bab7"
      },
      "execution_count": 18,
      "outputs": [
        {
          "output_type": "stream",
          "name": "stdout",
          "text": [
            "Epoch 1/10\n",
            "\u001b[1m249/249\u001b[0m \u001b[32m━━━━━━━━━━━━━━━━━━━━\u001b[0m\u001b[37m\u001b[0m \u001b[1m23s\u001b[0m 81ms/step - accuracy: 0.7581 - loss: 0.7419 - val_accuracy: 0.7696 - val_loss: 0.7218\n",
            "Epoch 2/10\n",
            "\u001b[1m249/249\u001b[0m \u001b[32m━━━━━━━━━━━━━━━━━━━━\u001b[0m\u001b[37m\u001b[0m \u001b[1m20s\u001b[0m 80ms/step - accuracy: 0.7707 - loss: 0.6965 - val_accuracy: 0.8035 - val_loss: 0.5263\n",
            "Epoch 3/10\n",
            "\u001b[1m249/249\u001b[0m \u001b[32m━━━━━━━━━━━━━━━━━━━━\u001b[0m\u001b[37m\u001b[0m \u001b[1m20s\u001b[0m 80ms/step - accuracy: 0.8303 - loss: 0.4452 - val_accuracy: 0.8460 - val_loss: 0.4045\n",
            "Epoch 4/10\n",
            "\u001b[1m249/249\u001b[0m \u001b[32m━━━━━━━━━━━━━━━━━━━━\u001b[0m\u001b[37m\u001b[0m \u001b[1m20s\u001b[0m 80ms/step - accuracy: 0.8682 - loss: 0.3336 - val_accuracy: 0.8432 - val_loss: 0.4047\n"
          ]
        }
      ]
    },
    {
      "cell_type": "code",
      "execution_count": 19,
      "metadata": {
        "colab": {
          "base_uri": "https://localhost:8080/",
          "height": 499
        },
        "id": "okEaz0EvdnHU",
        "outputId": "0669afa7-d981-48aa-ee6d-c3ce94158044"
      },
      "outputs": [
        {
          "output_type": "display_data",
          "data": {
            "text/plain": [
              "<Figure size 1800x600 with 2 Axes>"
            ],
            "image/png": "[encoded data removed]"
          },
          "metadata": {}
        }
      ],
      "source": [
        "import matplotlib.pyplot as plt\n",
        "\n",
        "# Visualizing the Performance of Model\n",
        "trainAcc = [100 * x for x in hist.history['accuracy']]\n",
        "testAcc = [100 * x for x in hist.history['val_accuracy']]\n",
        "\n",
        "fig, ax = plt.subplots(1, 2, figsize=(18, 6))\n",
        "\n",
        "ax[0].plot(hist.history['loss'], 'g', lw=3, label='Train')\n",
        "ax[0].set_xlabel('Epochs', fontsize=15)\n",
        "ax[0].set_ylabel('Loss', fontsize=15)\n",
        "ax[0].legend(fontsize=15)\n",
        "ax[0].set_title('Training Loss', fontsize=15)\n",
        "\n",
        "ax[1].plot(trainAcc, label='Train', lw=3)\n",
        "ax[1].plot(testAcc, label='Test', lw=3)\n",
        "ax[1].set_xlabel('Epochs', fontsize=15)\n",
        "ax[1].set_ylabel('Accuracy (%)', fontsize=15)\n",
        "ax[1].set_ylim([10, 110])\n",
        "ax[1].set_title(f'Train Accuracy: {trainAcc[-1]:.2f}% \\n Test Accuracy: {testAcc[-1]:.2f}%', fontsize=15)\n",
        "ax[1].legend(fontsize=15)\n",
        "\n",
        "plt.show()\n"
      ]
    },
    {
      "cell_type": "code",
      "source": [
        "from sklearn.metrics import confusion_matrix, ConfusionMatrixDisplay\n",
        "import numpy as np\n",
        "\n",
        "# Predict classes for the test set\n",
        "y_pred = model.predict(testX)\n",
        "y_pred_classes = np.argmax(y_pred, axis=1)  # Convert one-hot encoded output to class labels\n",
        "\n",
        "# Generate the confusion matrix\n",
        "cm = confusion_matrix(y_test, y_pred_classes)\n",
        "\n",
        "# Display the confusion matrix\n",
        "disp = ConfusionMatrixDisplay(confusion_matrix=cm, display_labels=[0, 1, 2])  # 0: Negative, 1: Neutral, 2: Positive\n",
        "disp.plot(cmap=plt.cm.Blues)\n",
        "\n",
        "plt.title(\"Confusion Matrix\")\n",
        "plt.show()\n"
      ],
      "metadata": {
        "colab": {
          "base_uri": "https://localhost:8080/",
          "height": 490
        },
        "id": "uTsRmKlOUVjY",
        "outputId": "7608581a-8652-4691-cc93-585db7304599"
      },
      "execution_count": 20,
      "outputs": [
        {
          "output_type": "stream",
          "name": "stdout",
          "text": [
            "\u001b[1m125/125\u001b[0m \u001b[32m━━━━━━━━━━━━━━━━━━━━\u001b[0m\u001b[37m\u001b[0m \u001b[1m3s\u001b[0m 23ms/step\n"
          ]
        },
        {
          "output_type": "display_data",
          "data": {
            "text/plain": [
              "<Figure size 640x480 with 2 Axes>"
            ],
            "image/png": "[encoded data removed]"
          },
          "metadata": {}
        }
      ]
    },
    {
      "cell_type": "code",
      "source": [
        "from sklearn.metrics import classification_report\n",
        "\n",
        "# Generate the classification report\n",
        "report = classification_report(y_test, y_pred_classes, target_names=['Negative', 'Neutral', 'Positive'])\n",
        "\n",
        "# Print the classification report\n",
        "print(report)\n"
      ],
      "metadata": {
        "colab": {
          "base_uri": "https://localhost:8080/"
        },
        "id": "7ZAI3s2QVELH",
        "outputId": "f99bc063-7ce8-4b37-c9df-917976135657"
      },
      "execution_count": 21,
      "outputs": [
        {
          "output_type": "stream",
          "name": "stdout",
          "text": [
            "              precision    recall  f1-score   support\n",
            "\n",
            "    Negative       0.65      0.67      0.66       516\n",
            "     Neutral       0.30      0.10      0.16       401\n",
            "    Positive       0.90      0.97      0.94      3063\n",
            "\n",
            "    accuracy                           0.85      3980\n",
            "   macro avg       0.62      0.58      0.58      3980\n",
            "weighted avg       0.81      0.85      0.82      3980\n",
            "\n"
          ]
        }
      ]
    }
  ],
  "metadata": {
    "accelerator": "GPU",
    "colab": {
      "gpuType": "T4",
      "provenance": []
    },
    "kernelspec": {
      "display_name": "Python 3",
      "name": "python3"
    },
    "language_info": {
      "name": "python"
    }
  },
  "nbformat": 4,
  "nbformat_minor": 0
}